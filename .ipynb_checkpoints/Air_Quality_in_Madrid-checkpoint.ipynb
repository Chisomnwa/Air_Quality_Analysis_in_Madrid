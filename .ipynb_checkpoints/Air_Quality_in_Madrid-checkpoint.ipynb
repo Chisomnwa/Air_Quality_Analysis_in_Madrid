{
 "cells": [
  {
   "cell_type": "markdown",
   "id": "78ebed15",
   "metadata": {},
   "source": [
    "----------------------------\n",
    "# Data Dictionary\n",
    "---------------------------\n",
    "SO_2: sulphur dioxide level measured in μg/m³. \n",
    "\n",
    "CO: carbon monoxide level measured in mg/m³. \n",
    "\n",
    "NO: nitric oxide level measured in μg/m³.\n",
    "\n",
    "NO_2: nitrogen dioxide level measured in μg/m³.\n",
    "\n",
    "PM25: particles smaller than 2.5 μm level measured in μg/m³.\n",
    "\n",
    "PM10: particles smaller than 10 μm level measured in μg/m³.\n",
    "\n",
    "NOx: nitrous oxides level measured in μg/m³. \n",
    "\n",
    "O_3: ozone level measured in μg/m³. \n",
    "\n",
    "TOL: toluene (methylbenzene) level measured in μg/m³.\n",
    "\n",
    "BEN: benzene level measured in μg/m³.\n",
    "\n",
    "EBE: ethylbenzene level measured in μg/m³.\n",
    "\n",
    "MXY: m-xylene level measured in μg/m³. \n",
    "\n",
    "PXY: p-xylene level measured in μg/m³. \n",
    "\n",
    "OXY: o-xylene level measured in μg/m³.\n",
    "\n",
    "TCH: total hydrocarbons level measured in mg/m³.\n",
    "\n",
    "CH4: methane level measured in mg/m³. \n",
    "\n",
    "NMHC: non-methane hydrocarbons (volatile organic compounds) level measured in mg/m³. \n",
    "\n",
    "--------------------------------------------"
   ]
  },
  {
   "cell_type": "code",
   "execution_count": 1,
   "id": "e69e1316",
   "metadata": {},
   "outputs": [],
   "source": [
    "# CO (mg/m³), TCH (mg/m³), CH4 (mg/m³), NMHC (mg/m³)"
   ]
  },
  {
   "cell_type": "code",
   "execution_count": 2,
   "id": "04412c01",
   "metadata": {},
   "outputs": [],
   "source": [
    "# import all libraries to be used for the analysis\n",
    "import numpy as np\n",
    "import pandas as pd\n",
    "import matplotlib.pyplot as plt\n",
    "import datetime as dt\n",
    "import seaborn as sns\n",
    "sns.set_style('darkgrid')\n",
    "import matplotlib.ticker as ticker\n",
    "\n",
    "%matplotlib inline\n",
    "\n",
    "import warnings\n",
    "warnings.filterwarnings('ignore')"
   ]
  },
  {
   "cell_type": "markdown",
   "id": "8005df27",
   "metadata": {},
   "source": [
    "# Gathering the Data"
   ]
  },
  {
   "cell_type": "markdown",
   "id": "c808f10d",
   "metadata": {},
   "source": [
    "**Since our data has the same column, we use the concat method to combine the dataframes into one mamaster dataframe.**"
   ]
  },
  {
   "cell_type": "code",
   "execution_count": 3,
   "id": "cc26a31b",
   "metadata": {},
   "outputs": [],
   "source": [
    "# let's read the the different 18 datasets\n",
    "df_2001 = pd.read_csv('madrid_2001.csv')\n",
    "df_2002 = pd.read_csv('madrid_2002.csv')\n",
    "df_2003 = pd.read_csv('madrid_2003.csv')\n",
    "df_2004 = pd.read_csv('madrid_2004.csv')\n",
    "df_2005 = pd.read_csv('madrid_2005.csv')\n",
    "df_2006 = pd.read_csv('madrid_2006.csv')\n",
    "df_2007 = pd.read_csv('madrid_2007.csv')\n",
    "df_2008 = pd.read_csv('madrid_2008.csv')\n",
    "df_2009 = pd.read_csv('madrid_2009.csv')\n",
    "df_2010 = pd.read_csv('madrid_2010.csv')\n",
    "df_2011 = pd.read_csv('madrid_2011.csv')\n",
    "df_2012 = pd.read_csv('madrid_2012.csv')\n",
    "df_2013 = pd.read_csv('madrid_2013.csv')\n",
    "df_2014 = pd.read_csv('madrid_2014.csv')\n",
    "df_2015 = pd.read_csv('madrid_2015.csv')\n",
    "df_2016 = pd.read_csv('madrid_2016.csv')\n",
    "df_2017 = pd.read_csv('madrid_2017.csv')\n",
    "df_2018 = pd.read_csv('madrid_2018.csv')"
   ]
  },
  {
   "cell_type": "code",
   "execution_count": 4,
   "id": "a12a4cf1",
   "metadata": {},
   "outputs": [],
   "source": [
    "# compile the list of dataframes you want to merge\n",
    "merged_data = [df_2001, df_2002, df_2003, df_2004, df_2005, df_2006, df_2007, df_2008, df_2009, df_2010, df_2011,\n",
    "               df_2012, df_2013, df_2014, df_2015, df_2016, df_2017, df_2018]\n",
    "nan_value = 0"
   ]
  },
  {
   "cell_type": "code",
   "execution_count": 5,
   "id": "900e35cc",
   "metadata": {},
   "outputs": [],
   "source": [
    "#madrid_data = pd.concat(merged_data, join='outer', axis=1).fillna(nan_value)"
   ]
  },
  {
   "cell_type": "code",
   "execution_count": 6,
   "id": "d9e0123d",
   "metadata": {},
   "outputs": [],
   "source": [
    "# merge all the individual datasets\n",
    "madrid_data = pd.concat(merged_data)"
   ]
  },
  {
   "cell_type": "code",
   "execution_count": 7,
   "id": "739e1ec2",
   "metadata": {},
   "outputs": [],
   "source": [
    "# convert the merged data to a dataframe and save to a csv file\n",
    "pd.DataFrame.to_csv(madrid_data, 'madrid_master', index=False)"
   ]
  },
  {
   "cell_type": "markdown",
   "id": "aea0ffc0",
   "metadata": {},
   "source": [
    "# Assessing the Data"
   ]
  },
  {
   "cell_type": "code",
   "execution_count": null,
   "id": "4af4cca3",
   "metadata": {
    "scrolled": true
   },
   "outputs": [],
   "source": [
    "# Load and display our master dataset\n",
    "madrid_master = pd.read_csv('madrid_master')\n",
    "\n",
    "# Looking at the first five rows p\n",
    "madrid_master.head()"
   ]
  },
  {
   "cell_type": "code",
   "execution_count": null,
   "id": "7e3d5533",
   "metadata": {},
   "outputs": [],
   "source": [
    "# looking at the last five rows of our dataset\n",
    "madrid_master.tail()"
   ]
  },
  {
   "cell_type": "code",
   "execution_count": null,
   "id": "731a9441",
   "metadata": {},
   "outputs": [],
   "source": [
    "# checking the number of rows and columns in our dataset\n",
    "madrid_master.shape"
   ]
  },
  {
   "cell_type": "code",
   "execution_count": null,
   "id": "021dcb07",
   "metadata": {},
   "outputs": [],
   "source": [
    "# checking the statistical descriptionof our dataset\n",
    "madrid_master.describe()"
   ]
  },
  {
   "cell_type": "code",
   "execution_count": null,
   "id": "ca5b334d",
   "metadata": {},
   "outputs": [],
   "source": [
    "# looking at the information of our dataset\n",
    "madrid_master.info()"
   ]
  },
  {
   "cell_type": "code",
   "execution_count": null,
   "id": "6b02cb7f",
   "metadata": {},
   "outputs": [],
   "source": [
    "# getting the missing values in our dataset and assigning to a variable num_missing_df\n",
    "num_missing = madrid_master.isnull().mean().round(2) * 100\n",
    "num_missing_df = pd.DataFrame(num_missing, columns=['missing values'])\n",
    "num_missing_df"
   ]
  },
  {
   "cell_type": "code",
   "execution_count": null,
   "id": "4d45771a",
   "metadata": {},
   "outputs": [],
   "source": [
    "# checking for duplicate rows in our dataset\n",
    "madrid_master.duplicated().sum()"
   ]
  },
  {
   "cell_type": "markdown",
   "id": "53ddff80",
   "metadata": {},
   "source": [
    "# Data Dictionary\n",
    "\n",
    " - id: the staion ID.\n",
    " \n",
    "\n",
    " - name: the name of the station.\n",
    " \n",
    "\n",
    " - address: the address of the station.\n",
    " \n",
    "\n",
    " - lat: Longitude measurement of the station.\n",
    " \n",
    " Latitude of place is a geographical coordinate that determines the \"north-south position\" on the surface of the earth. Its value ranges from 0 degree at the \"equator to 90 degree\" at \"North and South poles\". It measured in degress, minutes, and seconds.\n",
    " \n",
    "\n",
    " - lon: Longitude measurement of the station.\n",
    " \n",
    " Lines of longitude, also called meridians, are imaginary lines that divide the Earth. They run north to south from pole to pole, but they measure the distance east or west. It measured in degress, minutes, and seconds.\n",
    " \n",
    "\n",
    " - Elevation: The elevation of a geographic location is its height above or below sea level"
   ]
  },
  {
   "cell_type": "code",
   "execution_count": null,
   "id": "bb8b1838",
   "metadata": {
    "scrolled": true
   },
   "outputs": [],
   "source": [
    "# load and display our stations dataset\n",
    "stations = pd.read_csv('stations.csv')\n",
    "\n",
    "# looking at the first five rows of our dataset\n",
    "stations.head()"
   ]
  },
  {
   "cell_type": "code",
   "execution_count": null,
   "id": "02f6e7d5",
   "metadata": {},
   "outputs": [],
   "source": [
    "# looking at the last five rows of our dataset\n",
    "stations.tail()"
   ]
  },
  {
   "cell_type": "code",
   "execution_count": null,
   "id": "00518448",
   "metadata": {},
   "outputs": [],
   "source": [
    "# checking the number of rows and columns in our dataset\n",
    "stations.shape"
   ]
  },
  {
   "cell_type": "code",
   "execution_count": null,
   "id": "6937bafd",
   "metadata": {},
   "outputs": [],
   "source": [
    "# looking at the statistical description of our dataset\n",
    "stations.info()"
   ]
  },
  {
   "cell_type": "markdown",
   "id": "25095c54",
   "metadata": {},
   "source": [
    "#### Quality Issues\n",
    "\n",
    " - missing values in out dataset. i.e Columns like (BEN, EBE, MXY, NMHC, OXY, PXY, TCH, TOL, PM25, CH4) all have more than 70% of missing values.\n",
    " \n",
    " \n",
    " - Erroneous datatype (date column is of object data type) instead of datetime.\n",
    " \n",
    " \n",
    " - Inconsistent unit of measurement for CO column. Its unit of measurement should be in μg/m³ instead of mg/m³.\n",
    " \n",
    " \n",
    " - The column names `id` for the stations table, and the coulmn name `station` for the madrid_clean table aren't uniform. The both columns should be remaned station_id for uniformity.\n",
    " \n",
    " \n",
    " - The station_id columns are in madrid_clean and stations tables are in int instead of string.\n",
    " \n",
    " \n",
    " - redundant address column in the stations table.\n",
    "\n",
    " #### Tidiness issues\n",
    " \n",
    " \n",
    "  - different information information (time, year, month, and day) in the date column of the madrid_clean dataframe.\n",
    "  \n",
    " \n",
    "  - stations table should be merged with the madrid_master table, since they already have a common column which is the `station_id`. This would also aid our visualization and modelling."
   ]
  },
  {
   "cell_type": "markdown",
   "id": "b65fa4c5",
   "metadata": {},
   "source": [
    "# Cleaning the Data\n",
    "\n",
    "In this section, clean all of the issues you documented while assessing.\n",
    "\n",
    "**Note**: Make a copy of the original data before cleaning. Cleaning includes merging individual pieces of data according to the rules of [tidy data](https://cran.r-project.org/web/packages/tidyr/vignettes/tidy-data.html). The result should be a high-quality and tidy master pandas DataFrame (or DataFrames, if appropriate)."
   ]
  },
  {
   "cell_type": "code",
   "execution_count": null,
   "id": "a57b702e",
   "metadata": {},
   "outputs": [],
   "source": [
    "# making the copies of the datasets to preserve the original datasets\n",
    "madrid_clean = madrid_master.copy()\n",
    "stations_clean = stations.copy()"
   ]
  },
  {
   "cell_type": "markdown",
   "id": "8ca63ef1",
   "metadata": {},
   "source": [
    "### issue #1\n",
    "\n",
    "missing values in out dataset. i.e Columns like (BEN, EBE, MXY, NMHC, OXY, PXY, TCH, TOL, PM25, CH4) all have more than 70% of missing values."
   ]
  },
  {
   "cell_type": "markdown",
   "id": "c465e10f",
   "metadata": {},
   "source": [
    "### define\n",
    "\n",
    "These features will be dropped. This is because the amount of know data points remaining in these columns are insignificant compared the the number that has been deleted."
   ]
  },
  {
   "cell_type": "markdown",
   "id": "387e225f",
   "metadata": {},
   "source": [
    "### code"
   ]
  },
  {
   "cell_type": "code",
   "execution_count": null,
   "id": "0e9b984f",
   "metadata": {
    "scrolled": false
   },
   "outputs": [],
   "source": [
    "# let's look at the percentages of missing values again\n",
    "misssing_percent= madrid_clean.isnull().mean().round(2) * 100\n",
    "misssing_percent_df = pd.DataFrame(misssing_percent, columns=['missing values'])\n",
    "misssing_percent_df"
   ]
  },
  {
   "cell_type": "code",
   "execution_count": null,
   "id": "a26c4032",
   "metadata": {},
   "outputs": [],
   "source": [
    "# removing features with more than 70% misssing values\n",
    "drop_list = ['BEN', 'BEN', 'EBE', 'MXY', 'NMHC', 'OXY', 'PXY', 'TCH', 'TOL', 'PM25', 'CH4']\n",
    "\n",
    "# drp the columns\n",
    "madrid_clean.drop(drop_list, axis=1, inplace=True)"
   ]
  },
  {
   "cell_type": "markdown",
   "id": "ed507062",
   "metadata": {},
   "source": [
    "### test"
   ]
  },
  {
   "cell_type": "code",
   "execution_count": null,
   "id": "35705be1",
   "metadata": {},
   "outputs": [],
   "source": [
    "# checking if our cleaning effort worked\n",
    "madrid_clean.head()"
   ]
  },
  {
   "cell_type": "code",
   "execution_count": null,
   "id": "72809557",
   "metadata": {},
   "outputs": [],
   "source": [
    "# replace missing values in the remaining columns with the median\n",
    "\n",
    "madrid_clean['CO'].fillna(madrid_clean['CO'].median(), inplace = True)\n",
    "madrid_clean['NO_2'].fillna(madrid_clean['NO_2'].median(), inplace = True)\n",
    "madrid_clean['NOx'].fillna(madrid_clean['NOx'].median(), inplace = True)\n",
    "madrid_clean['O_3'].fillna(madrid_clean['O_3'].median(), inplace = True)\n",
    "madrid_clean['PM10'].fillna(madrid_clean['PM10'].median(), inplace = True)\n",
    "madrid_clean['SO_2'].fillna(madrid_clean['SO_2'].median(), inplace = True)\n",
    "madrid_clean['NO'].fillna(madrid_clean['NO'].median(), inplace = True)"
   ]
  },
  {
   "cell_type": "markdown",
   "id": "e43dd93e",
   "metadata": {},
   "source": [
    "### test"
   ]
  },
  {
   "cell_type": "code",
   "execution_count": null,
   "id": "693645b6",
   "metadata": {},
   "outputs": [],
   "source": [
    "# checking if the missing values have been replaced with medians\n",
    "madrid_clean.head()"
   ]
  },
  {
   "cell_type": "markdown",
   "id": "241f50f5",
   "metadata": {},
   "source": [
    "### issue #2\n",
    "\n",
    "Erroneous datatype (date column is of object data type) instead of datetime."
   ]
  },
  {
   "cell_type": "markdown",
   "id": "fabb619c",
   "metadata": {},
   "source": [
    "### define\n",
    "\n",
    "Covert the datatype of data column to datetime"
   ]
  },
  {
   "cell_type": "markdown",
   "id": "7382c6a9",
   "metadata": {},
   "source": [
    "### code"
   ]
  },
  {
   "cell_type": "code",
   "execution_count": null,
   "id": "cf53b3b2",
   "metadata": {},
   "outputs": [],
   "source": [
    "# converting date from object to datetime data type\n",
    "madrid_clean['date'] = pd.to_datetime(madrid_clean['date'], infer_datetime_format=True)"
   ]
  },
  {
   "cell_type": "markdown",
   "id": "d387e31f",
   "metadata": {},
   "source": [
    "### test"
   ]
  },
  {
   "cell_type": "code",
   "execution_count": null,
   "id": "c468a837",
   "metadata": {},
   "outputs": [],
   "source": [
    "# checking if our cleaning effort worked\n",
    "madrid_clean.info()"
   ]
  },
  {
   "cell_type": "markdown",
   "id": "c7c68947",
   "metadata": {},
   "source": [
    "### issue #3\n",
    "\n",
    "Inconsistent unit of measurement for CO column. Its unit of measurement should be in μg/m³ instead of mg/m³."
   ]
  },
  {
   "cell_type": "markdown",
   "id": "1736850e",
   "metadata": {},
   "source": [
    "### define\n",
    "\n",
    "Change the the unit measurement of CO to μg/m³. To do this, we divide by 1000."
   ]
  },
  {
   "cell_type": "markdown",
   "id": "9a3f7aa0",
   "metadata": {},
   "source": [
    "### code"
   ]
  },
  {
   "cell_type": "code",
   "execution_count": null,
   "id": "5313d713",
   "metadata": {},
   "outputs": [],
   "source": [
    "# Notice the values of CO before we make the change\n",
    "madrid_clean.head()"
   ]
  },
  {
   "cell_type": "code",
   "execution_count": null,
   "id": "5ec82e0e",
   "metadata": {},
   "outputs": [],
   "source": [
    "# Initiating measurement uniformity\n",
    "madrid_clean['CO'] = madrid_clean['CO']/1000"
   ]
  },
  {
   "cell_type": "markdown",
   "id": "aa08c9db",
   "metadata": {},
   "source": [
    "### test"
   ]
  },
  {
   "cell_type": "code",
   "execution_count": null,
   "id": "cf8fb0db",
   "metadata": {},
   "outputs": [],
   "source": [
    "madrid_clean.head()"
   ]
  },
  {
   "cell_type": "markdown",
   "id": "03e773b0",
   "metadata": {},
   "source": [
    "### issue #4\n",
    "\n",
    "The column names `id` for the stations table, and the coulmn name `station` for the madrid_clean table aren't uniform. The both columns should be remaned station_id for uniformity."
   ]
  },
  {
   "cell_type": "markdown",
   "id": "a48ed688",
   "metadata": {},
   "source": [
    "### define\n",
    "\n",
    "Rename both the `id` column of the station table and the `station` column in the madrid_master to `station_id`, so that both column names can be uniform since they contain the same information on the station ids."
   ]
  },
  {
   "cell_type": "markdown",
   "id": "fe82ede2",
   "metadata": {},
   "source": [
    "### code"
   ]
  },
  {
   "cell_type": "code",
   "execution_count": null,
   "id": "6d070590",
   "metadata": {},
   "outputs": [],
   "source": [
    "madrid_clean.rename(columns={'station': 'station_id'}, inplace=True)\n",
    "stations.rename(columns={'id': 'station_id'}, inplace=True)"
   ]
  },
  {
   "cell_type": "markdown",
   "id": "8f988663",
   "metadata": {},
   "source": [
    "### test"
   ]
  },
  {
   "cell_type": "code",
   "execution_count": null,
   "id": "63a2406c",
   "metadata": {},
   "outputs": [],
   "source": [
    "madrid_clean.head()"
   ]
  },
  {
   "cell_type": "code",
   "execution_count": null,
   "id": "4ef8f367",
   "metadata": {
    "scrolled": true
   },
   "outputs": [],
   "source": [
    "stations.head()"
   ]
  },
  {
   "cell_type": "markdown",
   "id": "cf881908",
   "metadata": {},
   "source": [
    "### issue #5\n",
    "\n",
    "The station_id columns are in madrid_clean and stations tables are in int instead of string."
   ]
  },
  {
   "cell_type": "markdown",
   "id": "72c96f37",
   "metadata": {},
   "source": [
    "### define\n",
    "\n",
    "convert the station_id for both tables to strings. Reason: the values aren't going to be used for analysis, even though they are numeric."
   ]
  },
  {
   "cell_type": "markdown",
   "id": "3a5d67a8",
   "metadata": {},
   "source": [
    "### code"
   ]
  },
  {
   "cell_type": "code",
   "execution_count": null,
   "id": "2d4232fd",
   "metadata": {},
   "outputs": [],
   "source": [
    "madrid_clean['station_id'] = madrid_clean['station_id'].astype(str)\n",
    "stations['station_id'] = stations['station_id'].astype(str)"
   ]
  },
  {
   "cell_type": "markdown",
   "id": "4864d765",
   "metadata": {},
   "source": [
    "### test"
   ]
  },
  {
   "cell_type": "code",
   "execution_count": null,
   "id": "5cfe5a49",
   "metadata": {},
   "outputs": [],
   "source": [
    "madrid_clean.info()"
   ]
  },
  {
   "cell_type": "code",
   "execution_count": null,
   "id": "ab110029",
   "metadata": {},
   "outputs": [],
   "source": [
    "stations.info()"
   ]
  },
  {
   "cell_type": "markdown",
   "id": "3291c774",
   "metadata": {},
   "source": [
    "### issue #6\n",
    "\n",
    "Redundant address column in the stations table or dataframe."
   ]
  },
  {
   "cell_type": "markdown",
   "id": "44c72982",
   "metadata": {},
   "source": [
    "### define\n",
    "\n",
    "drop the address column from the stations table as it won't be relevant for our analysis."
   ]
  },
  {
   "cell_type": "markdown",
   "id": "417dd8ba",
   "metadata": {},
   "source": [
    "### code"
   ]
  },
  {
   "cell_type": "code",
   "execution_count": null,
   "id": "cea3f35b",
   "metadata": {},
   "outputs": [],
   "source": [
    "stations.drop(['address'], axis=1, inplace=True)"
   ]
  },
  {
   "cell_type": "markdown",
   "id": "e188e073",
   "metadata": {},
   "source": [
    "### test"
   ]
  },
  {
   "cell_type": "code",
   "execution_count": null,
   "id": "895a89bc",
   "metadata": {},
   "outputs": [],
   "source": [
    "stations.info()"
   ]
  },
  {
   "cell_type": "markdown",
   "id": "8f9494dc",
   "metadata": {},
   "source": [
    "### issue #7\n",
    "\n",
    "Different information (time, year, month, day) in the date column of the madrid_clean dataframe."
   ]
  },
  {
   "cell_type": "markdown",
   "id": "8211e215",
   "metadata": {},
   "source": [
    "### define\n",
    "\n",
    "Extract the time, year, month, and day from the date column."
   ]
  },
  {
   "cell_type": "markdown",
   "id": "7e1a2b61",
   "metadata": {},
   "source": [
    "### code"
   ]
  },
  {
   "cell_type": "code",
   "execution_count": null,
   "id": "b0a5728a",
   "metadata": {},
   "outputs": [],
   "source": [
    "madrid_clean['date'] = pd.to_datetime(madrid_clean['date']).dt.date\n",
    "madrid_clean['time'] = pd.to_datetime(madrid_clean['date']).dt.time\n",
    "\n",
    "madrid_clean['year'] = pd.to_datetime(madrid_clean['date']).dt.year\n",
    "madrid_clean['month'] = pd.to_datetime(madrid_clean['date']).dt.month_name()\n",
    "madrid_clean['day'] = pd.to_datetime(madrid_clean['date']).dt.day_name()"
   ]
  },
  {
   "cell_type": "markdown",
   "id": "defbfcb0",
   "metadata": {},
   "source": [
    "### test"
   ]
  },
  {
   "cell_type": "code",
   "execution_count": null,
   "id": "9eb7af8d",
   "metadata": {},
   "outputs": [],
   "source": [
    "# checking to see if the columns has been extracted and added\n",
    "madrid_clean.head()"
   ]
  },
  {
   "cell_type": "code",
   "execution_count": null,
   "id": "cc4eebc1",
   "metadata": {},
   "outputs": [],
   "source": [
    "# checking the datatypes of the columns\n",
    "madrid_clean.info()"
   ]
  },
  {
   "cell_type": "code",
   "execution_count": null,
   "id": "2f7767f1",
   "metadata": {},
   "outputs": [],
   "source": [
    "# Convert date, time and year column to datetime\n",
    "madrid_clean['date'] = pd.to_datetime(madrid_clean['date'])"
   ]
  },
  {
   "cell_type": "code",
   "execution_count": null,
   "id": "27983984",
   "metadata": {},
   "outputs": [],
   "source": [
    "madrid_clean.info()"
   ]
  },
  {
   "cell_type": "code",
   "execution_count": null,
   "id": "4eaf3fe8",
   "metadata": {},
   "outputs": [],
   "source": [
    "madrid_clean.head()"
   ]
  },
  {
   "cell_type": "code",
   "execution_count": null,
   "id": "731155fa",
   "metadata": {},
   "outputs": [],
   "source": [
    "madrid_clean.isnull().sum()"
   ]
  },
  {
   "cell_type": "markdown",
   "id": "05455a2b",
   "metadata": {},
   "source": [
    "### issue #8\n",
    "\n",
    "The month and Day columns are in string or object datatypes."
   ]
  },
  {
   "cell_type": "markdown",
   "id": "111442e7",
   "metadata": {},
   "source": [
    "### define\n",
    "\n",
    "Convert the month and day columns to categorical data types"
   ]
  },
  {
   "cell_type": "markdown",
   "id": "8bd3bd09",
   "metadata": {},
   "source": [
    "### code"
   ]
  },
  {
   "cell_type": "code",
   "execution_count": null,
   "id": "fa2111b0",
   "metadata": {},
   "outputs": [],
   "source": [
    "# list of the month names\n",
    "month_names= ['January', 'February', 'March', 'April', 'May', 'June', 'July', 'August', 'September', 'October',\n",
    "            'November', 'December']\n",
    "\n",
    "# Returns the types for sedan_classes with the categories and orderliness\n",
    "# Refer - https://pandas.pydata.org/pandas-docs/version/0.23.4/generated/pandas.api.types.CategoricalDtype.html\n",
    "months = pd.api.types.CategoricalDtype(ordered=True, categories=month_names)\n",
    "\n",
    "# Use pandas.astype() to convert the \"month\" column from a plain object type to an ordered categorical type\n",
    "madrid_clean['month'] = madrid_clean['month'].astype(months);"
   ]
  },
  {
   "cell_type": "code",
   "execution_count": null,
   "id": "16fb27d6",
   "metadata": {},
   "outputs": [],
   "source": [
    "# list of the day names\n",
    "day_names= ['Monday', 'Tuesday', 'Wednesday', 'Thursday', 'Friday', 'Saturday', 'Sunday']\n",
    "\n",
    "# Returns the types for sedan_classes with the categories and orderliness\n",
    "# Refer - https://pandas.pydata.org/pandas-docs/version/0.23.4/generated/pandas.api.types.CategoricalDtype.html\n",
    "days = pd.api.types.CategoricalDtype(ordered=True, categories=day_names)\n",
    "\n",
    "# Use pandas.astype() to convert the \"month\" column from a plain object type to an ordered categorical type\n",
    "madrid_clean['day'] = madrid_clean['day'].astype(days);"
   ]
  },
  {
   "cell_type": "markdown",
   "id": "efa1e752",
   "metadata": {},
   "source": [
    "### test"
   ]
  },
  {
   "cell_type": "code",
   "execution_count": null,
   "id": "33900eed",
   "metadata": {},
   "outputs": [],
   "source": [
    "madrid_clean.info()"
   ]
  },
  {
   "cell_type": "markdown",
   "id": "0a2f0752",
   "metadata": {},
   "source": [
    "### issue #9\n",
    "\n",
    "stations table should be merged with the madrid_clean table, since they already have a common column which is the station_id. This would also aid our visualization and modelling."
   ]
  },
  {
   "cell_type": "markdown",
   "id": "2f8b4fd7",
   "metadata": {},
   "source": [
    "### define\n",
    "\n",
    "Merge stations table or dataframe to the madrid_clean table on  the station_id column."
   ]
  },
  {
   "cell_type": "markdown",
   "id": "dde47700",
   "metadata": {},
   "source": [
    "### code"
   ]
  },
  {
   "cell_type": "code",
   "execution_count": null,
   "id": "6869fba9",
   "metadata": {},
   "outputs": [],
   "source": [
    "# just taking a look at our madrid_clean dataframe once again\n",
    "madrid_clean.head()"
   ]
  },
  {
   "cell_type": "code",
   "execution_count": null,
   "id": "6a263cbf",
   "metadata": {},
   "outputs": [],
   "source": [
    "# just taking a look at our stations dataframe once again\n",
    "stations.head()"
   ]
  },
  {
   "cell_type": "code",
   "execution_count": null,
   "id": "d7f0ac8d",
   "metadata": {},
   "outputs": [],
   "source": [
    "print(madrid_clean.shape)\n",
    "print(stations.shape)"
   ]
  },
  {
   "cell_type": "code",
   "execution_count": null,
   "id": "adf9f1a7",
   "metadata": {
    "scrolled": false
   },
   "outputs": [],
   "source": [
    "# merge the stations dataframe to the madrid_clean dataframe\n",
    "Data = pd.merge(madrid_clean, stations, on='station_id', how='left')\n",
    "Data.head()"
   ]
  },
  {
   "cell_type": "code",
   "execution_count": null,
   "id": "2011d78a",
   "metadata": {},
   "outputs": [],
   "source": [
    "Data.shape"
   ]
  },
  {
   "cell_type": "markdown",
   "id": "97cd06de",
   "metadata": {},
   "source": [
    "We could observe from the dataframe that some rows has missing values in their name, lon, lat, elevation columns.\n",
    "\n",
    "If we remember, the information from the Kaggle site stated that the master dataframe which is the stations.csv file contains only 24 active stations that had equipment for measurements during those years. Some of the other stations were said to have ceased activity.\n",
    "\n",
    "This means that each of the csv files for the different years before they were merged into one dataframe actually contains stations that were not active, and those stations weren't included in the 24 stations in the csv file."
   ]
  },
  {
   "cell_type": "code",
   "execution_count": null,
   "id": "fb8bc845",
   "metadata": {},
   "outputs": [],
   "source": [
    "# now let's check the numnber of stations in our dataframe using the station ids\n",
    "Data['station_id'].unique()"
   ]
  },
  {
   "cell_type": "markdown",
   "id": "24fc75f0",
   "metadata": {},
   "source": [
    "We could see that we have more than 24 stations, which means we need to delete the stations that were present in the madrid_clean dataframe, but weren't present in the stations.csv file before it was merged with the madrid_clean dataframe.\n",
    "\n",
    "Since these stations do not have their names recorded in the stations dataframe before merging, we can extract rows with NaN values in the name column and then drop them."
   ]
  },
  {
   "cell_type": "code",
   "execution_count": null,
   "id": "284fdbb4",
   "metadata": {},
   "outputs": [],
   "source": [
    "Data[Data['name'].isna()]"
   ]
  },
  {
   "cell_type": "code",
   "execution_count": null,
   "id": "823389c6",
   "metadata": {
    "scrolled": true
   },
   "outputs": [],
   "source": [
    "# we could also check to confirm that these rows with missing values in the name column also have missing values in their\n",
    "# lon, lat and elevation columns\n",
    "\n",
    "Data.isnull().sum()"
   ]
  },
  {
   "cell_type": "code",
   "execution_count": null,
   "id": "f6e38698",
   "metadata": {},
   "outputs": [],
   "source": [
    "# Now, let's drop these rows with missing values in the name, and their corresponding lon, lat and elevation columns.\n",
    "Data.dropna(inplace=True)"
   ]
  },
  {
   "cell_type": "code",
   "execution_count": null,
   "id": "9f84bcdb",
   "metadata": {},
   "outputs": [],
   "source": [
    "Data.head()"
   ]
  },
  {
   "cell_type": "code",
   "execution_count": null,
   "id": "b5417481",
   "metadata": {},
   "outputs": [],
   "source": [
    "# checking the number of rows and columns in the dataframe\n",
    "Data.shape"
   ]
  },
  {
   "cell_type": "code",
   "execution_count": null,
   "id": "1d6e3a11",
   "metadata": {},
   "outputs": [],
   "source": [
    "# making sure the features all has the correct data types\n",
    "Data.info()"
   ]
  },
  {
   "cell_type": "markdown",
   "id": "5d0e9a87",
   "metadata": {},
   "source": [
    "### What is the structure of this dataset?\n",
    "\n",
    "They were initially 3808224 rows of different of records for different stations but after combining the dataset that contains the information of the different elements, with the dataset that contains the information about the different active stations, I realized that some stations which weren't part of the active stations were present in the combined dataframe, and I had to drop these rows.\n",
    "\n",
    "### What is the main features of interest in this dataset?\n",
    "\n",
    "I am most interested in finding out:\n",
    "\n",
    "\n",
    " - How the different gas levels changed with increase in years.\n",
    " \n",
    " \n",
    " - which months did the level of these gases rise the most.\n",
    " \n",
    "  \n",
    "  - How the different gases correlate with their levels.\n",
    "  \n",
    "  \n",
    "  - How the levels interpolate between the location of the stations.\n",
    "  \n",
    "  \n",
    "  - if some gases more common at different elevations.\n",
    "  \n",
    "  \n",
    "### What features in the dataset do you think will help support your investigation into your feature(s) of interest?\n",
    "\n",
    "The main features that I think would help me gather the above mentioned insights are the year, month, lat, lon, elevation, and station name columns. I expect the level of the gases to rise more during the dry season (months) time."
   ]
  },
  {
   "cell_type": "markdown",
   "id": "ac33d236",
   "metadata": {},
   "source": [
    "# Exploratory Data Analysis"
   ]
  },
  {
   "cell_type": "markdown",
   "id": "25e88bc1",
   "metadata": {},
   "source": [
    "## Univariate Analysis\n",
    "\n",
    "### Numerical Variables"
   ]
  },
  {
   "cell_type": "code",
   "execution_count": null,
   "id": "42c9cab3",
   "metadata": {
    "scrolled": true
   },
   "outputs": [],
   "source": [
    "# start with a standard-scaled plot\n",
    "plt.figure(figsize=[17, 6])\n",
    "\n",
    "plt.subplot(1,2,1)\n",
    "binsize = 50\n",
    "bins = np.arange(0, Data['PM10'].max()+binsize, binsize)\n",
    "plt.hist(data = Data, x = 'PM10', bins = bins);\n",
    "plt.title('Distribution of particles smaller than 10 μm (PM10)');\n",
    "plt.xlabel('PM10 (μg/m³)')\n",
    "plt.ylabel('Count')\n",
    "\n",
    "\n",
    "# specifying axis limit to help us confirm where the peak falls\n",
    "plt.subplot(1,2,2)\n",
    "binsize = 20\n",
    "bins = np.arange(0, Data['PM10'].max()+binsize, binsize)\n",
    "plt.hist(data = Data, x = 'PM10', bins=bins)\n",
    "plt.title('Distribution of particles smaller than 10 μm (PM10)');\n",
    "plt.xlabel('PM10 (μg/m³)')\n",
    "plt.xlim([0, 200]);"
   ]
  },
  {
   "cell_type": "code",
   "execution_count": null,
   "id": "c413be4b",
   "metadata": {},
   "outputs": [],
   "source": [
    "# start with a standard-scaled plot\n",
    "\n",
    "plt.figure(figsize=[17, 6])\n",
    "\n",
    "plt.subplot(1,2,1)\n",
    "binsize = 0.003\n",
    "bins = np.arange(0, Data['CO'].max()+binsize, binsize)\n",
    "plt.hist(data = Data, x = 'CO', bins = bins);\n",
    "plt.title('Distribution of Carbon monoxide Levels (CO)');\n",
    "plt.xlabel('CO (μg/m³)')\n",
    "plt.ylabel('Count')\n",
    "\n",
    "\n",
    "# specifying axis limit to help us confirm where the peak falls\n",
    "plt.subplot(1,2,2)\n",
    "binsize = 0.001\n",
    "bins = np.arange(0, Data['CO'].max()+binsize, binsize)\n",
    "plt.hist(data = Data, x = 'CO', bins=bins)\n",
    "plt.title('Distribution of Carbon monoxide Levels (CO)');\n",
    "plt.xlabel('CO (μg/m³)')\n",
    "plt.xlim([0, 0.0084]);"
   ]
  },
  {
   "cell_type": "code",
   "execution_count": null,
   "id": "30c10498",
   "metadata": {},
   "outputs": [],
   "source": [
    "# start with a standard-scaled plot\n",
    "plt.figure(figsize=[17, 6])\n",
    "\n",
    "plt.subplot(1,2,1)\n",
    "binsize = 50\n",
    "bins = np.arange(0, Data['NO_2'].max()+binsize, binsize)\n",
    "plt.hist(data = Data, x = 'NO_2', bins = bins);\n",
    "plt.title('Distribution of Nitrogen dioxide Levels (NO_2)');\n",
    "plt.xlabel('NO_2 (μg/m³)')\n",
    "plt.ylabel('Count')\n",
    "\n",
    "\n",
    "# specifying axis limit to help us confirm where the peak falls\n",
    "plt.subplot(1,2,2)\n",
    "binsize = 20\n",
    "bins = np.arange(0, Data['NO_2'].max()+binsize, binsize)\n",
    "plt.hist(data = Data, x = 'CO', bins=bins)\n",
    "plt.title('Distribution of Nitrogen doxide Levels (NO_2)');\n",
    "plt.xlabel('NO_2 (μg/m³)')\n",
    "plt.xlim([0, 200]);"
   ]
  },
  {
   "cell_type": "code",
   "execution_count": null,
   "id": "dfed18c0",
   "metadata": {
    "scrolled": false
   },
   "outputs": [],
   "source": [
    "# start with a standard-scaled plot\n",
    "plt.figure(figsize=[17, 13])\n",
    "\n",
    "plt.subplot(2,2,1)\n",
    "binsize = 50\n",
    "bins = np.arange(0, Data['NOx'].max()+binsize, binsize)\n",
    "plt.hist(data = Data, x = 'NOx', bins = bins);\n",
    "plt.title('Distribution of Nitrous oxides Levels (NOx)');\n",
    "plt.xlabel('NOx (μg/m³)')\n",
    "plt.ylabel('Count')\n",
    "\n",
    "\n",
    "# specifying axis limit to help us confirm where the peak falls\n",
    "plt.subplot(2,2,2)\n",
    "binsize = 20\n",
    "bins = np.arange(0, Data['NOx'].max()+binsize, binsize)\n",
    "plt.hist(data = Data, x = 'NOx', bins=bins)\n",
    "plt.title('Distribution of Nitrous oxides Levels (NOx)');\n",
    "plt.xlim([0, 500]);\n",
    "plt.xlabel('NOx (μg/m³)')\n",
    "plt.ylabel('Count');\n",
    "\n",
    "\n",
    "# there's a long tail in the distribution, so let's put it on a log scale instead\n",
    "plt.subplot(2,2,3)\n",
    "log_binsize = 0.1\n",
    "bins = 10 ** np.arange(0, np.log10(Data['NOx'].max())+log_binsize, log_binsize)\n",
    "ticks =[0.1, 0.3, 1, 3, 10, 30, 100, 300, 500, 1000, 1500, 2000, 2500]\n",
    "label = ['{}'.format(v) for v in ticks]\n",
    "plt.hist(data = Data, x = 'NOx', bins=bins)\n",
    "plt.xscale('log')\n",
    "plt.title('Distribution of Nitrous oxides Levels (NOx)');\n",
    "plt.xlabel('NOx (μg/m³)');"
   ]
  },
  {
   "cell_type": "code",
   "execution_count": null,
   "id": "c20b0635",
   "metadata": {
    "scrolled": false
   },
   "outputs": [],
   "source": [
    "# plot with a standard-scaled plot\n",
    "plt.figure(figsize=[8, 7])\n",
    "\n",
    "binsize = 20\n",
    "bins = np.arange(0, Data['O_3'].max()+binsize, binsize)\n",
    "plt.hist(data = Data, x = 'O_3', bins = bins);\n",
    "plt.title('Distribution of Ozone Levels (O_3)');\n",
    "plt.xlabel('O_3 (μg/m³)')\n",
    "plt.ylabel('Count');"
   ]
  },
  {
   "cell_type": "code",
   "execution_count": null,
   "id": "04a83ffc",
   "metadata": {},
   "outputs": [],
   "source": [
    "# plot with a standard-scaled plot\n",
    "plt.figure(figsize=[17, 6])\n",
    "\n",
    "plt.subplot(1,2,1)\n",
    "binsize = 20\n",
    "bins = np.arange(0, Data['SO_2'].max()+binsize, binsize)\n",
    "plt.hist(data = Data, x = 'SO_2', bins = bins);\n",
    "plt.title('Distribution of Sulphur dioxide Levels (SO_2)');\n",
    "plt.xlabel('SO_2 (μg/m³)')\n",
    "plt.ylabel('Count');\n",
    "\n",
    "# specifying axis limit to help us confirm where the peak falls\n",
    "plt.subplot(1,2,2)\n",
    "binsize = 20\n",
    "bins = np.arange(0, Data['SO_2'].max()+binsize, binsize)\n",
    "plt.hist(data = Data, x = 'SO_2', bins=bins)\n",
    "plt.xlim([0, 100]);\n",
    "plt.title('Distribution of Sulphur dioxide Levels (SO_2)');\n",
    "plt.xlabel('SO_2 (μg/m³)')\n",
    "plt.ylabel('Count');"
   ]
  },
  {
   "cell_type": "code",
   "execution_count": null,
   "id": "9124eabc",
   "metadata": {},
   "outputs": [],
   "source": [
    "# start with a standard-scaled plot\n",
    "plt.figure(figsize=[17, 13])\n",
    "\n",
    "plt.subplot(2,2,1)\n",
    "binsize = 50\n",
    "bins = np.arange(0, Data['NO'].max()+binsize, binsize)\n",
    "plt.hist(data = Data, x = 'NO', bins = bins);\n",
    "plt.title('Distribution of Nitric oxide Levels (NO)');\n",
    "plt.xlabel('NO (μg/m³)')\n",
    "plt.ylabel('Count')\n",
    "\n",
    "\n",
    "# specifying axis limit to help us confirm where the peak falls\n",
    "plt.subplot(2,2,2)\n",
    "binsize = 20\n",
    "bins = np.arange(0, Data['NO'].max()+binsize, binsize)\n",
    "plt.hist(data = Data, x = 'NO', bins=bins)\n",
    "plt.title('Distribution of Nitric oxide Levels (NO)');\n",
    "plt.xlim([0, 400]);\n",
    "plt.xlabel('NO (μg/m³)')\n",
    "plt.ylabel('Count');\n",
    "\n",
    "\n",
    "# there's a long tail in the distribution, so let's put it on a log scale instead\n",
    "plt.subplot(2,2,3)\n",
    "log_binsize = 0.1\n",
    "bins = 10 ** np.arange(0, np.log10(Data['NO'].max())+log_binsize, log_binsize)\n",
    "ticks =[0.1, 0.3, 1, 3, 10, 30, 100, 300, 500, 1000, 1200]\n",
    "label = ['{}'.format(v) for v in ticks]\n",
    "plt.hist(data = Data, x = 'NO', bins=bins)\n",
    "plt.xscale('log')\n",
    "plt.title('Distribution of Nitric oxide Levels (NO)');\n",
    "plt.xlabel('NO (μg/m³)');"
   ]
  },
  {
   "cell_type": "markdown",
   "id": "3f802d77",
   "metadata": {},
   "source": [
    "In the histogram chart above, we can see that all the elements were skewed to the right, leaving most data points concentrationg on the left, and mostly between 0 to 20 microgram per meter cube (μg/m³).\n",
    "\n",
    "Elements like Nitrogen dioxide `(NO_2)` and Ozone `(O_3)` had their peaks at 70 to 80 and 20 to 40 microgram per meter cube (μg/m³) respectively. PM10 (particles smaller than 10 μm `(PM10)` laso had its peak at 20 to 40 μg/m³."
   ]
  },
  {
   "cell_type": "markdown",
   "id": "9abb2322",
   "metadata": {},
   "source": [
    "### Categorical Variables"
   ]
  },
  {
   "cell_type": "code",
   "execution_count": null,
   "id": "0df27d69",
   "metadata": {},
   "outputs": [],
   "source": [
    "# creating a function to create a countplot into a subplot for a given category variable\n",
    "\n",
    "color = sns.color_palette()[0]\n",
    "def count_plot(cat):\n",
    "    if cat == 'year':\n",
    "        sns.countplot(data=Data, x = cat, color=color)\n",
    "        plt.xlabel('Year')\n",
    "        plt.ylabel('Count')\n",
    "        plt.title('Year Distribution According to Number of Measurements Taken')\n",
    "    elif cat == 'month':\n",
    "        sns.countplot(data = Data, x  = cat, color=color)\n",
    "        plt.xlabel('Month');\n",
    "        plt.ylabel('Count')\n",
    "        plt.title('Month Distribution According to Number of Measurements Taken')\n",
    "    else:\n",
    "        sns.countplot(data = Data, x = cat, color=color)\n",
    "        plt.xlabel('Day');\n",
    "        plt.ylabel('Count')\n",
    "        plt.title('Day Distribution According to Number of Measurements Taken')"
   ]
  },
  {
   "cell_type": "code",
   "execution_count": null,
   "id": "be3553a8",
   "metadata": {},
   "outputs": [],
   "source": [
    "# iterataing through a list of categorical variabale for plotting.\n",
    "\n",
    "cat_list = ['year', 'month', 'day']\n",
    "for cat_name in cat_list:\n",
    "    plt.figure(figsize=(20, 20))\n",
    "    sns.set_style('darkgrid')\n",
    "    plt.subplot(3, 1, 1)\n",
    "    count_plot(cat_name)"
   ]
  },
  {
   "cell_type": "code",
   "execution_count": null,
   "id": "5660fb6b",
   "metadata": {},
   "outputs": [],
   "source": [
    "# let's get the value count of each year in a data frame\n",
    "print(pd.DataFrame(Data['year'].value_counts()))\n",
    "\n",
    "# let's get the percentage of each year's value count\n",
    "print(pd.DataFrame(Data['year'].value_counts(normalize=True)*100))"
   ]
  },
  {
   "cell_type": "code",
   "execution_count": null,
   "id": "ed570c8d",
   "metadata": {},
   "outputs": [],
   "source": [
    "# let's get the value count of each month in a data frame\n",
    "print(pd.DataFrame(Data['month'].value_counts()))\n",
    "\n",
    "# let's get the percentage of each month's value count\n",
    "print(pd.DataFrame(Data['month'].value_counts(normalize=True)*100))"
   ]
  },
  {
   "cell_type": "code",
   "execution_count": null,
   "id": "35b63bda",
   "metadata": {},
   "outputs": [],
   "source": [
    "# let's get the value count of the unique days in a data frame\n",
    "print(pd.DataFrame(Data['day'].value_counts()))\n",
    "\n",
    "# let's get the percentage of each day's value count\n",
    "print(pd.DataFrame(Data['day'].value_counts(normalize=True)*100))"
   ]
  },
  {
   "cell_type": "markdown",
   "id": "1ac1e4b7",
   "metadata": {},
   "source": [
    "As observed from our charts which were backed up by the descriptive statistics, 2012 had the highest record of measurement of gases while 2018 had the least record of gas measurements. This is because 2018 had only 4 months recorded before the data was gathered for analysis.\n",
    "\n",
    "March had the highest record of gas measurements while September was the month with the least record of gas measurements.\n",
    "\n",
    "More gas measurements happened on a Monday, with other days having fairly equal number of gas or elements measurements."
   ]
  },
  {
   "cell_type": "markdown",
   "id": "454b2d07",
   "metadata": {},
   "source": [
    "## Bivariate Analysis"
   ]
  },
  {
   "cell_type": "markdown",
   "id": "f95e2037",
   "metadata": {},
   "source": [
    "****Let's first use a plot matrix to display the relationship between all the numerical variables of interest.****"
   ]
  },
  {
   "cell_type": "code",
   "execution_count": null,
   "id": "5fea86a1",
   "metadata": {
    "scrolled": false
   },
   "outputs": [],
   "source": [
    "num_variables = ['CO', 'NO_2', 'NOx', 'O_3', 'PM10', 'SO_2', 'NO', 'lon', 'lat', 'elevation']\n",
    "\n",
    "g = sns.PairGrid(data=Data, vars=num_variables)\n",
    "g = g.map_offdiag(sns.scatterplot)\n",
    "g.map_diag(plt.hist);"
   ]
  },
  {
   "cell_type": "markdown",
   "id": "227d4781",
   "metadata": {},
   "source": [
    "As we can see, there isn't a significant relationship between latitude (lat), longitude (lon), and elevation and any of the gases."
   ]
  },
  {
   "cell_type": "code",
   "execution_count": null,
   "id": "9b852cbe",
   "metadata": {},
   "outputs": [],
   "source": [
    "num_variables = ['CO', 'NO_2', 'NOx', 'O_3', 'PM10', 'SO_2', 'NO', 'lon', 'lat', 'elevation']"
   ]
  },
  {
   "cell_type": "code",
   "execution_count": null,
   "id": "65e987f1",
   "metadata": {},
   "outputs": [],
   "source": [
    "# correlation plot\n",
    "plt.figure(figsize = [8, 5])\n",
    "sns.heatmap(Data[num_variables].corr(), annot = True, fmt = '.3f',\n",
    "           cmap = 'vlag_r', center = 0)\n",
    "plt.show();"
   ]
  },
  {
   "cell_type": "markdown",
   "id": "2eb494a5",
   "metadata": {},
   "source": [
    "We could observe that there a strong linear correlation between CO and NO_2, NOx, SO_2.\n",
    "\n",
    "There also exists a strong linear correlation between NOx and NO_2, NOx and PM10, NOx and SO_2, NO and NO_2, **with CO and NOx having high number of correlations with other elements.**\n",
    "\n",
    "****More importantly****, there is no direct linear relationship or correlation between the levels of the individual gas pollutants and the longitude, latitude, and elevation of the stations."
   ]
  },
  {
   "cell_type": "markdown",
   "id": "c1e47bb4",
   "metadata": {},
   "source": [
    "___Let's closely take a look at these strong linear correlations between CO, NOx and other elements/gases.___"
   ]
  },
  {
   "cell_type": "code",
   "execution_count": null,
   "id": "29efb430",
   "metadata": {},
   "outputs": [],
   "source": [
    "def Relationship(num_var1, num_var2):\n",
    "    sns.set(rc={'figure.figsize':(7, 7)})\n",
    "    sns.regplot(data=Data, x=num_var1, y=num_var2, x_jitter=0.3, fit_reg=False, scatter_kws={'alpha':0.3})\n",
    "    plt.title('{}'. format(num_var1 + ' versus '+ num_var2))\n",
    "    \n",
    "    if num_var1 == 'CO':\n",
    "        plt.xlabel('{} (μg/m³)'.format(num_var1))\n",
    "    elif num_var1 == 'SO_2':\n",
    "        plt.xlabel('{} (μg/m³)'.format(num_var1))\n",
    "    elif num_var1 == 'NOx':\n",
    "        plt.xlabel('{} (μg/m³)'.format(num_var1))\n",
    "    elif num_var1 == 'O_3':\n",
    "        plt.xlabel('{} (μg/m³)'.format(num_var1))\n",
    "    elif num_var1 == 'PM10':\n",
    "        plt.xlabel('{} (μg/m³)'.format(num_var1))\n",
    "    elif num_var1 == 'NO_2':\n",
    "        plt.xlabel('{} (μg/m³)'.format(num_var1))\n",
    "    else:\n",
    "        plt.xlabel('{} (μg/m³)'.format(num_var1))\n",
    "        \n",
    "    if num_var2 == 'CO':\n",
    "        plt.ylabel('{} (μg/m³)'.format(num_var2))\n",
    "    elif num_var2 == 'NO_2':\n",
    "        plt.ylabel('{} (μg/m³)'.format(num_var2))\n",
    "    elif num_var2 == 'NOx':\n",
    "        plt.ylabel('{} (μg/m³)'.format(num_var2))\n",
    "    elif num_var2 == 'O_3':\n",
    "        plt.ylabel('{} (μg/m³)'.format(num_var2))\n",
    "    elif num_var2 == 'PM10':\n",
    "        plt.ylabel('{} (μg/m³)'.format(num_var2))\n",
    "    elif num_var2 == 'SO_2':\n",
    "        plt.ylabel('{} (μg/m³)'.format(num_var2))\n",
    "    else:\n",
    "        plt.ylabel('{} (μg/m³)'.format(num_var2))"
   ]
  },
  {
   "cell_type": "code",
   "execution_count": null,
   "id": "83941a2c",
   "metadata": {},
   "outputs": [],
   "source": [
    "plt.figure(figsize=[17, 7])\n",
    "plt.subplot(1, 3, 1)\n",
    "Relationship('NO_2', 'CO');\n",
    "\n",
    "plt.subplot(1, 3, 2)\n",
    "Relationship('PM10', 'CO');\n",
    "\n",
    "plt.subplot(1, 3, 3)\n",
    "Relationship('SO_2', 'CO');"
   ]
  },
  {
   "cell_type": "code",
   "execution_count": null,
   "id": "dd54fbc8",
   "metadata": {},
   "outputs": [],
   "source": [
    "plt.figure(figsize=[17, 7])\n",
    "plt.subplot(1, 3, 1)\n",
    "Relationship('NO_2', 'NOx');\n",
    "\n",
    "plt.subplot(1, 3, 2)\n",
    "Relationship('PM10', 'NOx');\n",
    "\n",
    "plt.subplot(1, 3, 3)\n",
    "Relationship('SO_2', 'NOx');"
   ]
  },
  {
   "cell_type": "markdown",
   "id": "0364aa3a",
   "metadata": {},
   "source": [
    "Once again, it's observed the strong correlation between CO, NOx and these other elements they are compared with. This is probably because they all have one source, which is the fossil fuels used in cars, trucks, trains, and airplanes."
   ]
  },
  {
   "cell_type": "code",
   "execution_count": null,
   "id": "dc839c13",
   "metadata": {},
   "outputs": [],
   "source": [
    "plt.figure(figsize=(16,6))\n",
    "plt.subplot(1,2,1)\n",
    "sns.scatterplot(Data.lat, Data.elevation)\n",
    "plt.xlabel('Latitude')\n",
    "plt.ylabel('Elevation')\n",
    "plt.title('Relationship Between Latitude and Elevation')\n",
    "plt.subplot(1,2,2)\n",
    "sns.scatterplot(Data.lon, Data.elevation)\n",
    "plt.xlabel('Longitude')\n",
    "plt.ylabel('Elevation')\n",
    "plt.title('Relationship Between Longitude and Elevation');"
   ]
  },
  {
   "cell_type": "markdown",
   "id": "71c4d3d9",
   "metadata": {},
   "source": [
    "We can observe that latitude has a weak postive correlation with elevation, more than longitude did."
   ]
  },
  {
   "cell_type": "code",
   "execution_count": null,
   "id": "9948ce69",
   "metadata": {},
   "outputs": [],
   "source": []
  },
  {
   "cell_type": "code",
   "execution_count": null,
   "id": "45b4b449",
   "metadata": {},
   "outputs": [],
   "source": [
    "plt.figure(figsize=[15, 7])\n",
    "base_color = sns.color_palette()[0]\n",
    "sns.boxplot(data=Data, x='name', y='lat', color=base_color)\n",
    "plt.xticks(rotation=90);\n",
    "plt.xlabel('Stations')\n",
    "plt.ylabel('Latitide');"
   ]
  },
  {
   "cell_type": "code",
   "execution_count": null,
   "id": "c4fa6c23",
   "metadata": {},
   "outputs": [],
   "source": [
    "plt.figure(figsize=[15, 7])\n",
    "base_color = sns.color_palette()[0]\n",
    "sns.boxplot(data=Data, x='name', y='lon', color=base_color)\n",
    "plt.xticks(rotation=90);\n",
    "plt.xlabel('Stations')\n",
    "plt.ylabel('Longitude');"
   ]
  },
  {
   "cell_type": "code",
   "execution_count": null,
   "id": "ac238198",
   "metadata": {
    "scrolled": false
   },
   "outputs": [],
   "source": [
    "plt.figure(figsize=[15, 7])\n",
    "base_color = sns.color_palette()[0]\n",
    "sns.boxplot(data=Data, x='name', y='elevation', color=base_color)\n",
    "plt.xticks(rotation=90);\n",
    "plt.xlabel('Stations')\n",
    "plt.ylabel('Elevation');"
   ]
  },
  {
   "cell_type": "markdown",
   "id": "cee64999",
   "metadata": {},
   "source": [
    "Since we've previously observed that their exists a weak positive relationship between elevation and latitude, we could see that the stations which have low elevation also have a low latitude, while the stations which have a high latitude has a high elavation.\n",
    "\n",
    "So **we know that elevation means the height of a place above the sea level**, and research has proven that if a place's elevation is high above the sea level, the place is likely to measure little amount of these pollutant gases.\n",
    "\n",
    "So, having this in mind, we will confirm these in the multivariate explorations. "
   ]
  },
  {
   "cell_type": "code",
   "execution_count": null,
   "id": "f608c3d9",
   "metadata": {},
   "outputs": [],
   "source": []
  },
  {
   "cell_type": "code",
   "execution_count": null,
   "id": "2650985c",
   "metadata": {},
   "outputs": [],
   "source": []
  },
  {
   "cell_type": "markdown",
   "id": "3c5600e9",
   "metadata": {},
   "source": [
    "# Multivariate Analysis"
   ]
  },
  {
   "cell_type": "code",
   "execution_count": null,
   "id": "206d6cf9",
   "metadata": {},
   "outputs": [],
   "source": [
    "# # We can use this code if we want to visualize the measurement of CO over the years without including \n",
    "# # the station names\n",
    "\n",
    "'''With this body of code, this would have been done in the bivariate analysis section, but we left it to visualize it in other \n",
    "to include the names of the stations as `hue`.\n",
    "'''\n",
    "# plt.figure(figsize = (15, 7))\n",
    "# plt.plot(Data.year, Data.CO)\n",
    "# plt.title('Measurements of CO over the years')\n",
    "# plt.xticks(rotation=30, ha='right');\n",
    "# plt.xlabel('Date')\n",
    "# plt.ylabel('CO (μg/m³)');"
   ]
  },
  {
   "cell_type": "code",
   "execution_count": null,
   "id": "87a7b8cc",
   "metadata": {},
   "outputs": [],
   "source": [
    "# In order to visualize the measurement distribution of CO and NOx over the years, we need to split the main dataframe \n",
    "# into different dataframes because visualizing everything at once would be clumsy.\n",
    "\n",
    "# let's split the dataset into different sets to aid easy visualization\n",
    "\n",
    "df1 = Data[Data['name'].isin(['Arturo Soria', 'Avda. Ramón y Cajal', 'Barajas Pueblo', 'Barrio del Pilar',\n",
    "                                  'Casa de Campo', 'Castellana'])]\n",
    "\n",
    "df2 = Data[Data['name'].isin(['Cuatro Caminos', 'El Pardo', 'Ensanche de Vallecas', 'Escuelas Aguirre', 'Farolillo',\n",
    "                                  'Juan Carlos I'])]\n",
    "                                 \n",
    "df3 = Data[Data['name'].isin(['Mendez Alvaro', 'Moratalaz', 'Parque del Retiro', 'Plaza Castilla', 'Pza. Fernández Ladreda',\n",
    "                                  'Pza. de España'])]\n",
    "                                  \n",
    "df4 = Data[Data['name'].isin(['Pza. del Carmen', 'Sanchinarro', 'Tres Olivos', 'Urb. Embajada', 'Vallecas',\n",
    "                                       'Villaverde'])]\n"
   ]
  },
  {
   "cell_type": "markdown",
   "id": "46e80c91",
   "metadata": {},
   "source": [
    "We will focus on the two gaseosus pollutants which are `CO` and `NOx` because we have seen that other elements are likely to be seen when these elements occur.\n",
    "\n",
    "So the logic is if we governement of Madrid is able to tacke the concentration of these two gases, other gases are likely to be tackled too, since they all come from the same sources.\n",
    "\n",
    "We good? Okay, let's move on."
   ]
  },
  {
   "cell_type": "code",
   "execution_count": null,
   "id": "7ea88b1b",
   "metadata": {},
   "outputs": [],
   "source": []
  },
  {
   "cell_type": "markdown",
   "id": "557eaac6",
   "metadata": {},
   "source": [
    "**FOR DF1 --- checking for CO**"
   ]
  },
  {
   "cell_type": "markdown",
   "id": "67078748",
   "metadata": {},
   "source": [
    "**What was the measurement distribution of CO across the different stations from the year 2001 to 2018 in df1?**"
   ]
  },
  {
   "cell_type": "code",
   "execution_count": null,
   "id": "372700a7",
   "metadata": {
    "scrolled": false
   },
   "outputs": [],
   "source": [
    "sns.set_style('darkgrid')\n",
    "sns.set(rc={'figure.figsize': (14,8)})\n",
    "\n",
    "ax = sns.lineplot(data=df1, x='year', y='CO',\n",
    "                  hue='name', lw=6)\n",
    "\n",
    "ax.xaxis.set_major_locator(ticker.MultipleLocator(4))\n",
    "plt.legend(bbox_to_anchor=(1, 1))\n",
    "plt.title('Measurement of CO Gas Pollutant Over the Years')\n",
    "plt.ylabel('CO (μg/m³)')\n",
    "plt.xlabel('Year');"
   ]
  },
  {
   "cell_type": "markdown",
   "id": "bd98dbb0",
   "metadata": {},
   "source": [
    "Measurement of CO decreased over the years for these stations, but remained constant at 0.0004 for Barajas Pueblo (from 2003 to 2010) and Castellana (2010 to 2018)."
   ]
  },
  {
   "cell_type": "markdown",
   "id": "977d0134",
   "metadata": {},
   "source": [
    "**Between the years from 2001 to 20018, which months recorded the highest measurement of CO using df1?**"
   ]
  },
  {
   "cell_type": "code",
   "execution_count": null,
   "id": "022e85b3",
   "metadata": {},
   "outputs": [],
   "source": [
    "sns.set_style('darkgrid')\n",
    "sns.set(rc={'figure.figsize': (14,8)})\n",
    "\n",
    "ax = sns.lineplot(data=df1, x='month', y='CO',\n",
    "                  hue='name', lw=6)\n",
    "\n",
    "ax.xaxis.set_major_locator(ticker.MultipleLocator(4))\n",
    "plt.legend(bbox_to_anchor=(1, 1))\n",
    "plt.title('Measurement Distribution of CO Gas Pollutant Within the Months')\n",
    "plt.ylabel('CO (μg/m³)')\n",
    "plt.xlabel('Month');"
   ]
  },
  {
   "cell_type": "markdown",
   "id": "417475fe",
   "metadata": {},
   "source": [
    "We observe that CO pollutant occured mostly from August to January and decreases sharply for most of the stations from January to August."
   ]
  },
  {
   "cell_type": "code",
   "execution_count": null,
   "id": "c5696aa4",
   "metadata": {},
   "outputs": [],
   "source": []
  },
  {
   "cell_type": "markdown",
   "id": "b00e15d3",
   "metadata": {},
   "source": [
    "**FOR DF2 --- checking for CO**"
   ]
  },
  {
   "cell_type": "markdown",
   "id": "208347d0",
   "metadata": {},
   "source": [
    "**what was the measurement distribution of CO across the different stations from the year 2001 to 2018 in df2?**"
   ]
  },
  {
   "cell_type": "code",
   "execution_count": null,
   "id": "e07e6cf7",
   "metadata": {
    "scrolled": false
   },
   "outputs": [],
   "source": [
    "sns.set_style('darkgrid')\n",
    "sns.set(rc={'figure.figsize': (14,8)})\n",
    "\n",
    "ax = sns.lineplot(data=df2, x='year', y='CO',\n",
    "                  hue='name', lw=6)\n",
    "\n",
    "ax.xaxis.set_major_locator(ticker.MultipleLocator(4))\n",
    "plt.legend(bbox_to_anchor=(1, 1))\n",
    "plt.title('Measurement of CO Gas Pollutant Over the Years')\n",
    "plt.ylabel('CO (μg/m³)')\n",
    "plt.xlabel('Year');"
   ]
  },
  {
   "cell_type": "markdown",
   "id": "d7bf8774",
   "metadata": {},
   "source": [
    "Measurement of CO decreased over the years for these stations, except for Juan Carlos which remained constant at 0.004, from 2009 till 2018"
   ]
  },
  {
   "cell_type": "markdown",
   "id": "84e09988",
   "metadata": {},
   "source": [
    "**Between the years from 2001 to 20018, which months recorded the highest measurement of CO using df2?**"
   ]
  },
  {
   "cell_type": "code",
   "execution_count": null,
   "id": "9dffc5bf",
   "metadata": {},
   "outputs": [],
   "source": [
    "sns.set_style('darkgrid')\n",
    "sns.set(rc={'figure.figsize': (14,8)})\n",
    "\n",
    "ax = sns.lineplot(data=df2, x='month', y='CO',\n",
    "                  hue='name', lw=6)\n",
    "\n",
    "ax.xaxis.set_major_locator(ticker.MultipleLocator(4))\n",
    "plt.legend(bbox_to_anchor=(1, 1))\n",
    "plt.title('Measurement Distribution of CO Gas Pollutant Within the Months')\n",
    "plt.ylabel('CO (μg/m³)')\n",
    "plt.xlabel('Month');"
   ]
  },
  {
   "cell_type": "markdown",
   "id": "39f0dfc0",
   "metadata": {},
   "source": [
    "We observe that CO pollutant occured mostly from August to January and decreases sharply for most of the stations from January to August."
   ]
  },
  {
   "cell_type": "code",
   "execution_count": null,
   "id": "c57d41ae",
   "metadata": {},
   "outputs": [],
   "source": []
  },
  {
   "cell_type": "markdown",
   "id": "6828876f",
   "metadata": {},
   "source": [
    "**FOR DF3 --- checking for CO**"
   ]
  },
  {
   "cell_type": "markdown",
   "id": "d79dcc66",
   "metadata": {},
   "source": [
    "**what was the measurement distribution of CO across the different stations from the year 2001 to 2018 in df3?**"
   ]
  },
  {
   "cell_type": "code",
   "execution_count": null,
   "id": "57dc8017",
   "metadata": {
    "scrolled": false
   },
   "outputs": [],
   "source": [
    "sns.set_style('darkgrid')\n",
    "sns.set(rc={'figure.figsize': (14,8)})\n",
    "\n",
    "ax = sns.lineplot(data=df3, x='year', y='CO',\n",
    "                  hue='name', lw=6)\n",
    "\n",
    "ax.xaxis.set_major_locator(ticker.MultipleLocator(4))\n",
    "plt.legend(bbox_to_anchor=(1, 1))\n",
    "plt.ylabel('CO (μg/m³)')\n",
    "plt.xlabel('Year');"
   ]
  },
  {
   "cell_type": "markdown",
   "id": "32444eed",
   "metadata": {},
   "source": [
    "Measurement of CO decreased over the years in these stations. Very little was recorded for Mendez Alvaro from 2009 to 2010 and then CO measurement remained constant in Plaza Castilla, from 2010 till 2018."
   ]
  },
  {
   "cell_type": "markdown",
   "id": "62e16771",
   "metadata": {},
   "source": [
    "**Between the years from 2001 to 20018, which months recorded the highest measurement of CO using df3?**"
   ]
  },
  {
   "cell_type": "code",
   "execution_count": null,
   "id": "e89778e9",
   "metadata": {},
   "outputs": [],
   "source": [
    "sns.set_style('darkgrid')\n",
    "sns.set(rc={'figure.figsize': (14,8)})\n",
    "\n",
    "ax = sns.lineplot(data=df3, x='month', y='CO',\n",
    "                  hue='name', lw=6)\n",
    "\n",
    "ax.xaxis.set_major_locator(ticker.MultipleLocator(4))\n",
    "plt.legend(bbox_to_anchor=(1, 1))\n",
    "plt.title('Measurement Distribution of CO Gas Pollutant Within the Months')\n",
    "plt.ylabel('CO (μg/m³)')\n",
    "plt.xlabel('Month');"
   ]
  },
  {
   "cell_type": "markdown",
   "id": "0b9a18cb",
   "metadata": {},
   "source": [
    "We observe that CO pollutant occured mostly from August to January and decreases sharply for most of the stations from January to August."
   ]
  },
  {
   "cell_type": "code",
   "execution_count": null,
   "id": "af27e07b",
   "metadata": {},
   "outputs": [],
   "source": []
  },
  {
   "cell_type": "markdown",
   "id": "1fd0c0f6",
   "metadata": {},
   "source": [
    "**FOR DF4 --- checking for CO**"
   ]
  },
  {
   "cell_type": "markdown",
   "id": "9a22d6fc",
   "metadata": {},
   "source": [
    "**what was the measurement distribution of CO across the different stations from the year 2001 to 2018 in df4?**"
   ]
  },
  {
   "cell_type": "code",
   "execution_count": null,
   "id": "aaa2ca66",
   "metadata": {
    "scrolled": false
   },
   "outputs": [],
   "source": [
    "sns.set_style('darkgrid')\n",
    "sns.set(rc={'figure.figsize': (14,8)})\n",
    "\n",
    "ax = sns.lineplot(data=df4, x='year', y='CO',\n",
    "                  hue='name', lw=6)\n",
    "\n",
    "ax.xaxis.set_major_locator(ticker.MultipleLocator(4))\n",
    "plt.legend(bbox_to_anchor=(1, 1))\n",
    "plt.title('Measurement of CO Gas Pollutant Over the Years')\n",
    "plt.ylabel('CO (μg/m³)')\n",
    "plt.xlabel('Year');"
   ]
  },
  {
   "cell_type": "markdown",
   "id": "9b4878e6",
   "metadata": {},
   "source": [
    "Measurement of CO decreased over the years in these stations and remained constatant from Tres Olivos from 2010 to 2018"
   ]
  },
  {
   "cell_type": "markdown",
   "id": "d315d918",
   "metadata": {},
   "source": [
    "**Between the years from 2001 to 20018, which months recorded the highest measurement of CO using df4?**"
   ]
  },
  {
   "cell_type": "code",
   "execution_count": null,
   "id": "e0f422b8",
   "metadata": {},
   "outputs": [],
   "source": [
    "sns.set_style('darkgrid')\n",
    "sns.set(rc={'figure.figsize': (14,8)})\n",
    "\n",
    "ax = sns.lineplot(data=df4, x='month', y='CO',\n",
    "                  hue='name', lw=6)\n",
    "\n",
    "ax.xaxis.set_major_locator(ticker.MultipleLocator(4))\n",
    "plt.legend(bbox_to_anchor=(1, 1))\n",
    "plt.title('Measurement Distribution of CO Gas Pollutant Within the Months')\n",
    "plt.ylabel('CO (μg/m³)')\n",
    "plt.xlabel('Month');"
   ]
  },
  {
   "cell_type": "markdown",
   "id": "f6a0bee4",
   "metadata": {},
   "source": [
    "We observe that CO pollutant occured mostly from August to January and decreases sharply for most of the stations from January to August."
   ]
  },
  {
   "cell_type": "code",
   "execution_count": null,
   "id": "6c1d1f3e",
   "metadata": {},
   "outputs": [],
   "source": []
  },
  {
   "cell_type": "code",
   "execution_count": null,
   "id": "3fe404d9",
   "metadata": {},
   "outputs": [],
   "source": []
  },
  {
   "cell_type": "markdown",
   "id": "ac14c0ca",
   "metadata": {},
   "source": [
    "**FOR DF1 --- checking for NOx**"
   ]
  },
  {
   "cell_type": "markdown",
   "id": "b148b606",
   "metadata": {},
   "source": [
    "**what was the measurement distribution of NOx across the different stations from the year 2001 to 2018 in df1?**"
   ]
  },
  {
   "cell_type": "code",
   "execution_count": null,
   "id": "60309df1",
   "metadata": {},
   "outputs": [],
   "source": [
    "sns.set_style('darkgrid')\n",
    "sns.set(rc={'figure.figsize': (14,8)})\n",
    "\n",
    "ax = sns.lineplot(data=df1, x='year', y='NOx',\n",
    "                  hue='name', lw=6)\n",
    "\n",
    "ax.xaxis.set_major_locator(ticker.MultipleLocator(4))\n",
    "plt.legend(bbox_to_anchor=(1, 1))\n",
    "plt.title('Measurement of NOx Gas Pollutant Over the Years')\n",
    "plt.ylabel('NOx (μg/m³)')\n",
    "plt.xlabel('Year');"
   ]
  },
  {
   "cell_type": "markdown",
   "id": "6e786fd3",
   "metadata": {},
   "source": [
    "Here, we can observe that the NOx measurement decreased from 2001 for five of the stations and ceased in 2011. while it became constant fo Castella only from 2011 to 2016. Then there was a sharp increase in measurements in most of the stations in 2016 before they decreased again in 2017."
   ]
  },
  {
   "cell_type": "markdown",
   "id": "a0d3ac23",
   "metadata": {},
   "source": [
    "**Between the years from 2001 to 20018, which months recorded the highest measurement of NOx using df1?**"
   ]
  },
  {
   "cell_type": "code",
   "execution_count": null,
   "id": "b9c77d6d",
   "metadata": {},
   "outputs": [],
   "source": [
    "sns.set_style('darkgrid')\n",
    "sns.set(rc={'figure.figsize': (14,8)})\n",
    "\n",
    "ax = sns.lineplot(data=df1, x='month', y='NOx',\n",
    "                  hue='name', lw=10) #palette='coolwarm'\n",
    "                  #legend='full', lw=3)\n",
    "\n",
    "ax.xaxis.set_major_locator(ticker.MultipleLocator(4))\n",
    "plt.legend(bbox_to_anchor=(1, 1))\n",
    "plt.title('Measurement Distribution of NOx Gas Pollutant Within the Months')\n",
    "plt.ylabel('NOx (μg/m³)')\n",
    "plt.xlabel('Month');"
   ]
  },
  {
   "cell_type": "markdown",
   "id": "9ebf2a4d",
   "metadata": {},
   "source": [
    "We observe that NOx pollutant occured mostly from August to January and decreases sharply for most of the stations from January to August."
   ]
  },
  {
   "cell_type": "code",
   "execution_count": null,
   "id": "4d282123",
   "metadata": {},
   "outputs": [],
   "source": []
  },
  {
   "cell_type": "markdown",
   "id": "2aac752b",
   "metadata": {},
   "source": [
    "**FOR DF2 --- checking for NOx**"
   ]
  },
  {
   "cell_type": "markdown",
   "id": "6f56d77d",
   "metadata": {},
   "source": [
    "**what was the measurement distribution of NOx across the different stations from the year 2001 to 2018 in df2?**"
   ]
  },
  {
   "cell_type": "code",
   "execution_count": null,
   "id": "0fe05f9f",
   "metadata": {},
   "outputs": [],
   "source": [
    "sns.set_style('darkgrid')\n",
    "sns.set(rc={'figure.figsize': (14,8)})\n",
    "\n",
    "ax = sns.lineplot(data=df2, x='year', y='NOx',\n",
    "                  hue='name', lw=6)\n",
    "\n",
    "ax.xaxis.set_major_locator(ticker.MultipleLocator(4))\n",
    "plt.legend(bbox_to_anchor=(1, 1))\n",
    "plt.title('Measurement of NOx Gas Pollutant Over the Years')\n",
    "plt.ylabel('NOx (μg/m³)')\n",
    "plt.xlabel('Year');"
   ]
  },
  {
   "cell_type": "markdown",
   "id": "55832958",
   "metadata": {},
   "source": [
    "We could see the NOx measurement decreased from 2001 for 3 of the stations, while for the other 3, the NOx measurement just started in 2009, then became constant for all the stations from 2011 till 2016, where it increased again for most of the stations before dropping again in 2017."
   ]
  },
  {
   "cell_type": "markdown",
   "id": "5f0a83b5",
   "metadata": {},
   "source": [
    "**Between the years from 2001 to 20018, which months recorded the highest measurement of NOx using df2?**"
   ]
  },
  {
   "cell_type": "code",
   "execution_count": null,
   "id": "036d7566",
   "metadata": {},
   "outputs": [],
   "source": [
    "sns.set_style('darkgrid')\n",
    "sns.set(rc={'figure.figsize': (14,8)})\n",
    "\n",
    "ax = sns.lineplot(data=df2, x='month', y='NOx',\n",
    "                  hue='name', lw=6)\n",
    "\n",
    "\n",
    "ax.xaxis.set_major_locator(ticker.MultipleLocator(4))\n",
    "plt.legend(bbox_to_anchor=(1, 1))\n",
    "plt.title('Measurement Distribution of NOx Gas Pollutant Within the Months')\n",
    "plt.ylabel('NOx (μg/m³)')\n",
    "plt.xlabel('Month');"
   ]
  },
  {
   "cell_type": "markdown",
   "id": "4d476868",
   "metadata": {},
   "source": [
    "We observe that NOx pollutant occured mostly from August to January and decreases sharply for most of the stations from January to August."
   ]
  },
  {
   "cell_type": "code",
   "execution_count": null,
   "id": "e9070e8e",
   "metadata": {},
   "outputs": [],
   "source": []
  },
  {
   "cell_type": "markdown",
   "id": "042782ba",
   "metadata": {},
   "source": [
    "**FOR DF3 --- checking for NOx**"
   ]
  },
  {
   "cell_type": "markdown",
   "id": "023f3122",
   "metadata": {},
   "source": [
    "**what was the measurement distribution of NOx across the different stations from the year 2001 to 2018 in df3?**"
   ]
  },
  {
   "cell_type": "code",
   "execution_count": null,
   "id": "14e76f28",
   "metadata": {},
   "outputs": [],
   "source": [
    "sns.set_style('darkgrid')\n",
    "sns.set(rc={'figure.figsize': (14,8)})\n",
    "\n",
    "ax = sns.lineplot(data=df3, x='year', y='NOx',\n",
    "                  hue='name', lw=6)\n",
    "\n",
    "ax.xaxis.set_major_locator(ticker.MultipleLocator(4))\n",
    "plt.legend(bbox_to_anchor=(1, 1))\n",
    "plt.title('Measurement of NOx Gas Pollutant Over the Years')\n",
    "plt.ylabel('NOx (μg/m³)')\n",
    "plt.xlabel('Year');"
   ]
  },
  {
   "cell_type": "markdown",
   "id": "2ad8b0db",
   "metadata": {},
   "source": [
    "We could see the NOx measurement decreased from 2001 for 2 of the stations, while for the other 4, the NOx measurement just started roughly around 2009 and 2010, then became constant for all the stations from 2011 till 2016, where it increased again for most of the stations before dropping again in 2017."
   ]
  },
  {
   "cell_type": "markdown",
   "id": "7bc33123",
   "metadata": {},
   "source": [
    "**Between the years from 2001 to 20018, which months recorded the highest measurement of NOx using df3?**"
   ]
  },
  {
   "cell_type": "code",
   "execution_count": null,
   "id": "94f2acd9",
   "metadata": {},
   "outputs": [],
   "source": [
    "sns.set_style('darkgrid')\n",
    "sns.set(rc={'figure.figsize': (14,8)})\n",
    "\n",
    "ax = sns.lineplot(data=df3, x='month', y='NOx',\n",
    "                  hue='name', lw=6)\n",
    "\n",
    "ax.xaxis.set_major_locator(ticker.MultipleLocator(4))\n",
    "plt.legend(bbox_to_anchor=(1, 1))\n",
    "plt.title('Measurement Distribution of NOx Gas Pollutant Within the Months')\n",
    "plt.ylabel('NOx (μg/m³)')\n",
    "plt.xlabel('Month');"
   ]
  },
  {
   "cell_type": "markdown",
   "id": "f8491b23",
   "metadata": {},
   "source": [
    "We observe that NOx pollutant occured mostly from August to January and decreases sharply for most of the stations from January to August."
   ]
  },
  {
   "cell_type": "code",
   "execution_count": null,
   "id": "6f6365c1",
   "metadata": {},
   "outputs": [],
   "source": []
  },
  {
   "cell_type": "markdown",
   "id": "115b05fc",
   "metadata": {},
   "source": [
    "**FOR DF4 --- checking for NOx**"
   ]
  },
  {
   "cell_type": "markdown",
   "id": "cbe5df2b",
   "metadata": {},
   "source": [
    "**What was the measurement distribution of NOx across the different stations from the year 2001 to 2018 in df4?**"
   ]
  },
  {
   "cell_type": "code",
   "execution_count": null,
   "id": "49dd10cb",
   "metadata": {},
   "outputs": [],
   "source": [
    "sns.set_style('darkgrid')\n",
    "sns.set(rc={'figure.figsize': (14,8)})\n",
    "\n",
    "ax = sns.lineplot(data=df4, x='year', y='NOx',\n",
    "                  hue='name', lw=6)\n",
    "\n",
    "ax.xaxis.set_major_locator(ticker.MultipleLocator(4))\n",
    "plt.legend(bbox_to_anchor=(1, 1))\n",
    "plt.title('Measurement of NOx Gas Pollutant Over the Years')\n",
    "plt.ylabel('NOx (μg/m³)')\n",
    "plt.xlabel('Year');"
   ]
  },
  {
   "cell_type": "markdown",
   "id": "ea033548",
   "metadata": {},
   "source": [
    "We could see the NOx measurement decreased from 2001 for 3 of the stations, while for the other 3, the NOx measurement just started between 2009 and 2010, then became constant for all the stations from 2011 till 2016, where it increased again for most of the stations before dropping again in 2017."
   ]
  },
  {
   "cell_type": "markdown",
   "id": "f75ac03c",
   "metadata": {},
   "source": [
    "**Between the years from 2001 to 20018, which months recorded the highest measurement of NOx using df4?**"
   ]
  },
  {
   "cell_type": "code",
   "execution_count": null,
   "id": "336d8825",
   "metadata": {},
   "outputs": [],
   "source": [
    "sns.set_style('darkgrid')\n",
    "sns.set(rc={'figure.figsize': (14,8)})\n",
    "\n",
    "ax = sns.lineplot(data=df4, x='month', y='NOx',\n",
    "                  hue='name', lw=6)\n",
    "\n",
    "ax.xaxis.set_major_locator(ticker.MultipleLocator(4))\n",
    "plt.legend(bbox_to_anchor=(1, 1))\n",
    "plt.title('Measurement Distribution of NOx Gas Pollutant Within the Months')\n",
    "plt.ylabel('NOx (μg/m³)')\n",
    "plt.xlabel('Month');"
   ]
  },
  {
   "cell_type": "markdown",
   "id": "ca06e7d1",
   "metadata": {},
   "source": [
    "We observe that NOx pollutant occured mostly from August to January and decreases sharply for most of the stations from January to August."
   ]
  },
  {
   "cell_type": "code",
   "execution_count": null,
   "id": "cd43b04f",
   "metadata": {},
   "outputs": [],
   "source": []
  },
  {
   "cell_type": "markdown",
   "id": "26006736",
   "metadata": {},
   "source": [
    "# CONCLUSION:\n",
    "\n",
    "\n",
    " - There is a negative and postive trend of CO nad NOX pollutants measurement in most of the stations as it concerns the measurement variations within the different months in a year. The measurement decreases from January and becomes constant from March or April up unitil August where it increases till September the next year.\n",
    "    \n",
    "\n",
    "  During winter season the minimum temperatures in this most cities drop down and thus increasing the level of the pollutants as the low temperature reduces vertical mixing and thus lowers the mixing layer height thereby trapping the pollutants in the atmosphere. That's why these gases occur most in the dry or winter months.\n",
    " \n",
    " \n",
    " - It was observed that CO measurement decreased from 2001 t0 2018 in most of the stations, and was only observed more in stations with low elevation. Example - Mendez Alvaro, Farolillo.\n",
    " \n",
    " \n",
    " - It was observed that NO measurent for most stations decreased from 2001 for some of the stations, and became contant from 2011 till 2016 for most of the stations, before increasing and dropping again in 2017.\n",
    " \n",
    " So it's generally negative secular trend with random variations in the most of the stations.\n",
    " \n",
    " \n",
    " - NO was also observed at stations with mid to low elevation. Example - Pza. del Carmen, Pza. de España."
   ]
  },
  {
   "cell_type": "markdown",
   "id": "3a4c3068",
   "metadata": {},
   "source": [
    "# Limitations\n",
    "\n",
    " - This dataset was only from 2001 to 2018 and the datapoints that has been collected over the years from 2019 till present might be different from the dataset we worked with.\n",
    " \n",
    " \n",
    " - At some point, there was a ceasation of NOx gas pollutant measurement for most of the stations. This makes the data not to be totally complete for the trend analysis.\n"
   ]
  },
  {
   "cell_type": "code",
   "execution_count": null,
   "id": "9dcf27ca",
   "metadata": {},
   "outputs": [],
   "source": []
  },
  {
   "cell_type": "code",
   "execution_count": null,
   "id": "4198cc64",
   "metadata": {},
   "outputs": [],
   "source": []
  },
  {
   "cell_type": "code",
   "execution_count": null,
   "id": "6311f724",
   "metadata": {},
   "outputs": [],
   "source": []
  },
  {
   "cell_type": "code",
   "execution_count": null,
   "id": "1fb639eb",
   "metadata": {},
   "outputs": [],
   "source": []
  }
 ],
 "metadata": {
  "kernelspec": {
   "display_name": "Python 3 (ipykernel)",
   "language": "python",
   "name": "python3"
  },
  "language_info": {
   "codemirror_mode": {
    "name": "ipython",
    "version": 3
   },
   "file_extension": ".py",
   "mimetype": "text/x-python",
   "name": "python",
   "nbconvert_exporter": "python",
   "pygments_lexer": "ipython3",
   "version": "3.9.12"
  },
  "toc": {
   "base_numbering": 1,
   "nav_menu": {},
   "number_sections": true,
   "sideBar": true,
   "skip_h1_title": false,
   "title_cell": "Table of Contents",
   "title_sidebar": "Contents",
   "toc_cell": false,
   "toc_position": {},
   "toc_section_display": true,
   "toc_window_display": false
  },
  "varInspector": {
   "cols": {
    "lenName": 16,
    "lenType": 16,
    "lenVar": 40
   },
   "kernels_config": {
    "python": {
     "delete_cmd_postfix": "",
     "delete_cmd_prefix": "del ",
     "library": "var_list.py",
     "varRefreshCmd": "print(var_dic_list())"
    },
    "r": {
     "delete_cmd_postfix": ") ",
     "delete_cmd_prefix": "rm(",
     "library": "var_list.r",
     "varRefreshCmd": "cat(var_dic_list()) "
    }
   },
   "types_to_exclude": [
    "module",
    "function",
    "builtin_function_or_method",
    "instance",
    "_Feature"
   ],
   "window_display": false
  }
 },
 "nbformat": 4,
 "nbformat_minor": 5
}
